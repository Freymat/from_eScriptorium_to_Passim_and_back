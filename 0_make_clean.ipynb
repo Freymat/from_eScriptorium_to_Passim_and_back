{
 "cells": [
  {
   "cell_type": "markdown",
   "metadata": {},
   "source": [
    "# Clean all folders before running the scripts"
   ]
  },
  {
   "cell_type": "code",
   "execution_count": 1,
   "metadata": {},
   "outputs": [],
   "source": [
    "# Clean specific folders before running the script\n",
    "import os\n",
    "import shutil\n",
    "\n",
    "def clean_folder(folder):\n",
    "    if os.path.exists(folder):\n",
    "        shutil.rmtree(folder)\n",
    "    os.makedirs(folder)"
   ]
  },
  {
   "cell_type": "code",
   "execution_count": 2,
   "metadata": {},
   "outputs": [],
   "source": [
    "# Delete all files in the folders for brand new run\n",
    "# Pipeline from 0\n",
    "\n",
    "#! Beware ! This will delete all files in the folders !\n",
    "\n",
    "# list of folders to clean:\n",
    "folders_from_0 = ['xmls_from_eSc',\n",
    "           'ocr_lines_dict',\n",
    "           'json_for_passim',\n",
    "           'json_from_passim',\n",
    "           'lines_dict_with_alg_GT',\n",
    "           'alignment_register',\n",
    "           'xmls_for_eSc',\n",
    "           'results_summary_tsv'\n",
    "            ]\n",
    "\n",
    "# Delete all files in the folders for brand new run\n",
    "\n",
    "if __name__ == \"__main__\":\n",
    "    for folder in folders_from_0:\n",
    "        clean_folder(folder)\n"
   ]
  },
  {
   "cell_type": "code",
   "execution_count": 2,
   "metadata": {},
   "outputs": [],
   "source": [
    "# Delete files, but keep xmls_from_passim folder\n",
    "# Pipeline from passim computation\n",
    "\n",
    "#! Beware ! This will delete all files in the folders !\n",
    "\n",
    "# list of folders to clean:\n",
    "folders_after_data_prep_for_passim = ['json_from_passim',\n",
    "           'lines_dict_with_alg_GT',\n",
    "           'alignment_register',\n",
    "           'xmls_for_eSc',\n",
    "           'results_summary_tsv'\n",
    "            ]\n",
    "\n",
    "# Delete files after data preparation for Passim\n",
    "\n",
    "if __name__ == \"__main__\":\n",
    "    for folder in folders_after_data_prep_for_passim:\n",
    "        clean_folder(folder)"
   ]
  }
 ],
 "metadata": {
  "kernelspec": {
   "display_name": "acdc",
   "language": "python",
   "name": "python3"
  },
  "language_info": {
   "codemirror_mode": {
    "name": "ipython",
    "version": 3
   },
   "file_extension": ".py",
   "mimetype": "text/x-python",
   "name": "python",
   "nbconvert_exporter": "python",
   "pygments_lexer": "ipython3",
   "version": "3.9.18"
  }
 },
 "nbformat": 4,
 "nbformat_minor": 2
}
