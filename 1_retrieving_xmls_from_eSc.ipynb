{
 "cells": [
  {
   "cell_type": "markdown",
   "metadata": {},
   "source": [
    "# Retrieving XMLs from eSc\n",
    "We retrieve xmls of document parts from eScriptorium,\n",
    "in order to prepare them for processing with Passim."
   ]
  },
  {
   "cell_type": "markdown",
   "metadata": {},
   "source": [
    "# Notebook initialization"
   ]
  },
  {
   "cell_type": "code",
   "execution_count": 1,
   "metadata": {},
   "outputs": [
    {
     "name": "stdout",
     "output_type": "stream",
     "text": [
      "switching to  msIA\n"
     ]
    }
   ],
   "source": [
    "from functions import *\n",
    "from packages import *"
   ]
  },
  {
   "cell_type": "markdown",
   "metadata": {},
   "source": [
    "Get the document parts xmls from eScriptorium"
   ]
  },
  {
   "cell_type": "code",
   "execution_count": null,
   "metadata": {},
   "outputs": [],
   "source": []
  },
  {
   "cell_type": "code",
   "execution_count": 2,
   "metadata": {},
   "outputs": [
    {
     "name": "stdout",
     "output_type": "stream",
     "text": [
      "get document segmentation ontology for document:  4077\n",
      "https://msia.escriptorium.fr/api/documents/4077/\n",
      "Document: 4077  with  901  parts\n",
      "region types: [{'pk': 6338, 'name': 'Catchword'}, {'pk': 3, 'name': 'Commentary'}, {'pk': 6345, 'name': 'FooterCentral'}, {'pk': 6343, 'name': 'FooterLeft'}, {'pk': 6342, 'name': 'FooterRight'}, {'pk': 6341, 'name': 'Handwritten'}, {'pk': 4, 'name': 'Illustration'}, {'pk': 2, 'name': 'Main'}, {'pk': 6339, 'name': 'MainCentral'}, {'pk': 6337, 'name': 'MainLeft'}, {'pk': 6336, 'name': 'MainRight'}, {'pk': 6340, 'name': 'Margin'}, {'pk': 6335, 'name': 'RunningHeader'}, {'pk': 6344, 'name': 'Stamp'}, {'pk': 1, 'name': 'Title'}]\n",
      "line types: [{'pk': 14596, 'name': 'Handwritten'}, {'pk': 14592, 'name': 'MainCentral'}, {'pk': 14594, 'name': 'MainLeft'}, {'pk': 14593, 'name': 'MainRight'}, {'pk': 14595, 'name': 'NotMain'}]\n",
      "transcription_level_list: [{'pk': 11018, 'name': 'MT_NoVoc_concatenated_pip_test_regexp_14/05/2024-14_39_17', 'archived': False, 'avg_confidence': 0.9743265139608499}, {'pk': 11020, 'name': 'Machzor_Rosh_Hashanah_Ashkenaz_clean_concatenated_pip_test_regexp_14/05/2024-14_39_17', 'archived': False, 'avg_confidence': 0.9852161475573408}, {'pk': 11021, 'name': 'Siddur_Ashkenaz_clean_concatenated_pip_test_regexp_14/05/2024-14_39_17', 'archived': False, 'avg_confidence': 0.9817352012461885}, {'pk': 11022, 'name': 'Siddur_Ashkenaz_novoc_no_lbs_Daniel_pip_test_regexp_14/05/2024-14_39_17', 'archived': False, 'avg_confidence': 0.9881690782281187}, {'pk': 11019, 'name': 'Machzor_Yom_Kippur_Ashkenaz_clean_concatenated_pip_test_regexp_14/05/2024-14_39_17', 'archived': False, 'avg_confidence': 0.9881690782281187}, {'pk': 10909, 'name': 'Machzor_Yom_Kippur_Ashkenaz_clean_concatenated_pip_test_regexp_03/05/2024-10_37_23', 'archived': True, 'avg_confidence': 0.9881690782281187}, {'pk': 10907, 'name': 'Machzor_Rosh_Hashanah_Ashkenaz_clean_concatenated_pip_test_regexp_03/05/2024-10_37_23', 'archived': True, 'avg_confidence': 0.9852161475573408}, {'pk': 10910, 'name': 'Siddur_Ashkenaz_clean_concatenated_pip_test_regexp_03/05/2024-10_37_23', 'archived': True, 'avg_confidence': 0.9817352012461885}, {'pk': 10911, 'name': 'Siddur_Ashkenaz_novoc_no_lbs_Daniel_pip_test_regexp_03/05/2024-10_37_23', 'archived': True, 'avg_confidence': 0.9881690782281187}, {'pk': 10908, 'name': 'MT_NoVoc_concatenated_pip_test_regexp_03/05/2024-10_37_23', 'archived': True, 'avg_confidence': 0.9743265139608499}, {'pk': 10672, 'name': 'MT_NoVoc_without_lev_ratio', 'archived': True, 'avg_confidence': 0.9869622418181739}, {'pk': 10671, 'name': 'Machzor_Yom_Kippur_Ashkenaz_without_lev_ratio', 'archived': True, 'avg_confidence': 0.9873390309669919}, {'pk': 10673, 'name': 'Siddur_Ashkenaz_without_lev_ratio', 'archived': True, 'avg_confidence': 0.9874578661895647}, {'pk': 10670, 'name': 'Machzor_Rosh_Hashanah_Ashkenaz_without_lev_ratio', 'archived': True, 'avg_confidence': 0.9874578661895647}, {'pk': 10603, 'name': '01MT_NoVoc_alignment', 'archived': True, 'avg_confidence': 0.987495695663261}, {'pk': 10582, 'name': 'lines_dict_with_alg_01MT_NoVoc', 'archived': True, 'avg_confidence': 0.987495695663261}, {'pk': 10583, 'name': 'lines_dict_with_alg_Machzor_Yom_Kippur_Ashkenaz_clean_concatenated', 'archived': True, 'avg_confidence': 0.9877801050997014}, {'pk': 10584, 'name': 'lines_dict_with_alg_Machzor_Rosh_Hashanah_Ashkenaz_clean_concatenated', 'archived': True, 'avg_confidence': 0.9877801050997014}, {'pk': 10585, 'name': 'lines_dict_with_alg_Siddur_Ashkenaz', 'archived': True, 'avg_confidence': 0.9811365473745877}, {'pk': 10245, 'name': 'Machzor_Yom_Kippur_Ashkenaz_clean_concatenated_alignment', 'archived': True, 'avg_confidence': 0.9877801050997014}, {'pk': 10246, 'name': 'Siddur_Ashkenaz_alignment', 'archived': True, 'avg_confidence': 0.9811365473745877}, {'pk': 10244, 'name': 'Machzor_Rosh_Hashanah_Ashkenaz_clean_concatenated_alignment', 'archived': True, 'avg_confidence': 0.9877801050997014}, {'pk': 10243, 'name': '01MT_NoVoc_alignment', 'archived': True, 'avg_confidence': 0.9866802232483525}, {'pk': 10251, 'name': 'align_HB_0.8_ng7', 'archived': True, 'avg_confidence': None}, {'pk': 9996, 'name': '2col_04_from_luigi | export', 'archived': False, 'avg_confidence': 0.9870173018536188}, {'pk': 9995, 'name': 'manual', 'archived': False, 'avg_confidence': None}]\n"
     ]
    },
    {
     "data": {
      "text/plain": [
       "(901,\n",
       " [{'pk': 11018,\n",
       "   'name': 'MT_NoVoc_concatenated_pip_test_regexp_14/05/2024-14_39_17',\n",
       "   'archived': False,\n",
       "   'avg_confidence': 0.9743265139608499},\n",
       "  {'pk': 11020,\n",
       "   'name': 'Machzor_Rosh_Hashanah_Ashkenaz_clean_concatenated_pip_test_regexp_14/05/2024-14_39_17',\n",
       "   'archived': False,\n",
       "   'avg_confidence': 0.9852161475573408},\n",
       "  {'pk': 11021,\n",
       "   'name': 'Siddur_Ashkenaz_clean_concatenated_pip_test_regexp_14/05/2024-14_39_17',\n",
       "   'archived': False,\n",
       "   'avg_confidence': 0.9817352012461885},\n",
       "  {'pk': 11022,\n",
       "   'name': 'Siddur_Ashkenaz_novoc_no_lbs_Daniel_pip_test_regexp_14/05/2024-14_39_17',\n",
       "   'archived': False,\n",
       "   'avg_confidence': 0.9881690782281187},\n",
       "  {'pk': 11019,\n",
       "   'name': 'Machzor_Yom_Kippur_Ashkenaz_clean_concatenated_pip_test_regexp_14/05/2024-14_39_17',\n",
       "   'archived': False,\n",
       "   'avg_confidence': 0.9881690782281187},\n",
       "  {'pk': 10909,\n",
       "   'name': 'Machzor_Yom_Kippur_Ashkenaz_clean_concatenated_pip_test_regexp_03/05/2024-10_37_23',\n",
       "   'archived': True,\n",
       "   'avg_confidence': 0.9881690782281187},\n",
       "  {'pk': 10907,\n",
       "   'name': 'Machzor_Rosh_Hashanah_Ashkenaz_clean_concatenated_pip_test_regexp_03/05/2024-10_37_23',\n",
       "   'archived': True,\n",
       "   'avg_confidence': 0.9852161475573408},\n",
       "  {'pk': 10910,\n",
       "   'name': 'Siddur_Ashkenaz_clean_concatenated_pip_test_regexp_03/05/2024-10_37_23',\n",
       "   'archived': True,\n",
       "   'avg_confidence': 0.9817352012461885},\n",
       "  {'pk': 10911,\n",
       "   'name': 'Siddur_Ashkenaz_novoc_no_lbs_Daniel_pip_test_regexp_03/05/2024-10_37_23',\n",
       "   'archived': True,\n",
       "   'avg_confidence': 0.9881690782281187},\n",
       "  {'pk': 10908,\n",
       "   'name': 'MT_NoVoc_concatenated_pip_test_regexp_03/05/2024-10_37_23',\n",
       "   'archived': True,\n",
       "   'avg_confidence': 0.9743265139608499},\n",
       "  {'pk': 10672,\n",
       "   'name': 'MT_NoVoc_without_lev_ratio',\n",
       "   'archived': True,\n",
       "   'avg_confidence': 0.9869622418181739},\n",
       "  {'pk': 10671,\n",
       "   'name': 'Machzor_Yom_Kippur_Ashkenaz_without_lev_ratio',\n",
       "   'archived': True,\n",
       "   'avg_confidence': 0.9873390309669919},\n",
       "  {'pk': 10673,\n",
       "   'name': 'Siddur_Ashkenaz_without_lev_ratio',\n",
       "   'archived': True,\n",
       "   'avg_confidence': 0.9874578661895647},\n",
       "  {'pk': 10670,\n",
       "   'name': 'Machzor_Rosh_Hashanah_Ashkenaz_without_lev_ratio',\n",
       "   'archived': True,\n",
       "   'avg_confidence': 0.9874578661895647},\n",
       "  {'pk': 10603,\n",
       "   'name': '01MT_NoVoc_alignment',\n",
       "   'archived': True,\n",
       "   'avg_confidence': 0.987495695663261},\n",
       "  {'pk': 10582,\n",
       "   'name': 'lines_dict_with_alg_01MT_NoVoc',\n",
       "   'archived': True,\n",
       "   'avg_confidence': 0.987495695663261},\n",
       "  {'pk': 10583,\n",
       "   'name': 'lines_dict_with_alg_Machzor_Yom_Kippur_Ashkenaz_clean_concatenated',\n",
       "   'archived': True,\n",
       "   'avg_confidence': 0.9877801050997014},\n",
       "  {'pk': 10584,\n",
       "   'name': 'lines_dict_with_alg_Machzor_Rosh_Hashanah_Ashkenaz_clean_concatenated',\n",
       "   'archived': True,\n",
       "   'avg_confidence': 0.9877801050997014},\n",
       "  {'pk': 10585,\n",
       "   'name': 'lines_dict_with_alg_Siddur_Ashkenaz',\n",
       "   'archived': True,\n",
       "   'avg_confidence': 0.9811365473745877},\n",
       "  {'pk': 10245,\n",
       "   'name': 'Machzor_Yom_Kippur_Ashkenaz_clean_concatenated_alignment',\n",
       "   'archived': True,\n",
       "   'avg_confidence': 0.9877801050997014},\n",
       "  {'pk': 10246,\n",
       "   'name': 'Siddur_Ashkenaz_alignment',\n",
       "   'archived': True,\n",
       "   'avg_confidence': 0.9811365473745877},\n",
       "  {'pk': 10244,\n",
       "   'name': 'Machzor_Rosh_Hashanah_Ashkenaz_clean_concatenated_alignment',\n",
       "   'archived': True,\n",
       "   'avg_confidence': 0.9877801050997014},\n",
       "  {'pk': 10243,\n",
       "   'name': '01MT_NoVoc_alignment',\n",
       "   'archived': True,\n",
       "   'avg_confidence': 0.9866802232483525},\n",
       "  {'pk': 10251,\n",
       "   'name': 'align_HB_0.8_ng7',\n",
       "   'archived': True,\n",
       "   'avg_confidence': None},\n",
       "  {'pk': 9996,\n",
       "   'name': '2col_04_from_luigi | export',\n",
       "   'archived': False,\n",
       "   'avg_confidence': 0.9870173018536188},\n",
       "  {'pk': 9995, 'name': 'manual', 'archived': False, 'avg_confidence': None}],\n",
       " [{'pk': 6338, 'name': 'Catchword'},\n",
       "  {'pk': 3, 'name': 'Commentary'},\n",
       "  {'pk': 6345, 'name': 'FooterCentral'},\n",
       "  {'pk': 6343, 'name': 'FooterLeft'},\n",
       "  {'pk': 6342, 'name': 'FooterRight'},\n",
       "  {'pk': 6341, 'name': 'Handwritten'},\n",
       "  {'pk': 4, 'name': 'Illustration'},\n",
       "  {'pk': 2, 'name': 'Main'},\n",
       "  {'pk': 6339, 'name': 'MainCentral'},\n",
       "  {'pk': 6337, 'name': 'MainLeft'},\n",
       "  {'pk': 6336, 'name': 'MainRight'},\n",
       "  {'pk': 6340, 'name': 'Margin'},\n",
       "  {'pk': 6335, 'name': 'RunningHeader'},\n",
       "  {'pk': 6344, 'name': 'Stamp'},\n",
       "  {'pk': 1, 'name': 'Title'}],\n",
       " [{'pk': 14596, 'name': 'Handwritten'},\n",
       "  {'pk': 14592, 'name': 'MainCentral'},\n",
       "  {'pk': 14594, 'name': 'MainLeft'},\n",
       "  {'pk': 14593, 'name': 'MainRight'},\n",
       "  {'pk': 14595, 'name': 'NotMain'}])"
      ]
     },
     "execution_count": 2,
     "metadata": {},
     "output_type": "execute_result"
    }
   ],
   "source": [
    "doc_pk = 4077\n",
    "get_basic_info(doc_pk)"
   ]
  },
  {
   "cell_type": "code",
   "execution_count": 3,
   "metadata": {},
   "outputs": [
    {
     "name": "stdout",
     "output_type": "stream",
     "text": [
      "[{'pk': 6338, 'name': 'Catchword'}, {'pk': 3, 'name': 'Commentary'}, {'pk': 6345, 'name': 'FooterCentral'}, {'pk': 6343, 'name': 'FooterLeft'}, {'pk': 6342, 'name': 'FooterRight'}, {'pk': 6341, 'name': 'Handwritten'}, {'pk': 4, 'name': 'Illustration'}, {'pk': 2, 'name': 'Main'}, {'pk': 6339, 'name': 'MainCentral'}, {'pk': 6337, 'name': 'MainLeft'}, {'pk': 6336, 'name': 'MainRight'}, {'pk': 6340, 'name': 'Margin'}, {'pk': 6335, 'name': 'RunningHeader'}, {'pk': 6344, 'name': 'Stamp'}, {'pk': 1, 'name': 'Title'}]\n",
      "[6337, 6336]\n"
     ]
    }
   ],
   "source": [
    "# get the region type list\n",
    "region_type_list, line_type_list = get_document_segmentation_ontology(doc_pk,print_status=False)\n",
    "print(region_type_list)\n",
    "\n",
    "\n",
    "# choose the region type pk\n",
    "# We want the regions {'pk': 6337, 'name': 'MainLeft'}, {'pk': 6336, 'name': 'MainRight'}\n",
    "region_type_pk_list = [6337, 6336]\n",
    "print(region_type_pk_list)\n",
    "\n",
    "# Choose the transcription level\n",
    "tr_level_pk = 9996"
   ]
  },
  {
   "cell_type": "code",
   "execution_count": 4,
   "metadata": {},
   "outputs": [
    {
     "name": "stdout",
     "output_type": "stream",
     "text": [
      "901 parts found\n"
     ]
    }
   ],
   "source": [
    "# get all the parts from the document\n",
    "all_parts = get_all_parts(doc_pk)\n",
    "\n",
    "# get the part pk list\n",
    "part_pk_list = [ part['pk'] for part in all_parts ]\n",
    "\n",
    "print(f\"{len(part_pk_list)} parts found\")"
   ]
  },
  {
   "cell_type": "code",
   "execution_count": 5,
   "metadata": {},
   "outputs": [
    {
     "name": "stdout",
     "output_type": "stream",
     "text": [
      "200\n",
      "b'{\"status\":\"ok\"}'\n"
     ]
    },
    {
     "data": {
      "text/plain": [
       "<Response [200]>"
      ]
     },
     "execution_count": 5,
     "metadata": {},
     "output_type": "execute_result"
    }
   ],
   "source": [
    "\n",
    "\n",
    "# get the xmls of the parts from eScriptorium\n",
    "export_xml(doc_pk,part_pk_list,tr_level_pk,region_type_pk_list,include_undefined = False, include_orphan = False, file_format = 'alto',include_images = False, print_status = True)\n"
   ]
  },
  {
   "cell_type": "markdown",
   "metadata": {},
   "source": [
    "--------\n"
   ]
  }
 ],
 "metadata": {
  "kernelspec": {
   "display_name": "Python 3",
   "language": "python",
   "name": "python3"
  },
  "language_info": {
   "codemirror_mode": {
    "name": "ipython",
    "version": 3
   },
   "file_extension": ".py",
   "mimetype": "text/x-python",
   "name": "python",
   "nbconvert_exporter": "python",
   "pygments_lexer": "ipython3",
   "version": "3.9.18"
  },
  "orig_nbformat": 4
 },
 "nbformat": 4,
 "nbformat_minor": 2
}
