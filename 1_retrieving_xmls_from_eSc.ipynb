{
 "cells": [
  {
   "cell_type": "markdown",
   "metadata": {},
   "source": [
    "# Retrieving XMLs from eSc\n",
    "We retrieve xmls of document parts from eScriptorium,\n",
    "in order to prepare them for processing with Passim."
   ]
  },
  {
   "cell_type": "markdown",
   "metadata": {},
   "source": [
    "# Notebook initialization"
   ]
  },
  {
   "cell_type": "code",
   "execution_count": 1,
   "metadata": {},
   "outputs": [
    {
     "name": "stdout",
     "output_type": "stream",
     "text": [
      "switching to  msIA\n"
     ]
    }
   ],
   "source": [
    "from functions import *\n",
    "from packages import *"
   ]
  },
  {
   "cell_type": "markdown",
   "metadata": {},
   "source": [
    "Get the document parts xmls from eScriptorium"
   ]
  },
  {
   "cell_type": "code",
   "execution_count": 2,
   "metadata": {},
   "outputs": [
    {
     "name": "stdout",
     "output_type": "stream",
     "text": [
      "get document segmentation ontology for document:  4381\n",
      "https://msia.escriptorium.fr/api/documents/4381/\n",
      "Document: 4381  with  64  parts\n",
      "region types: [{'pk': 6912, 'name': 'Catchword'}, {'pk': 3, 'name': 'Commentary'}, {'pk': 6910, 'name': 'FooterCentral'}, {'pk': 6914, 'name': 'Handwritten'}, {'pk': 6908, 'name': 'Header'}, {'pk': 4, 'name': 'Illustration'}, {'pk': 2, 'name': 'Main'}, {'pk': 6909, 'name': 'MainCentral'}, {'pk': 6911, 'name': 'Margin'}, {'pk': 6913, 'name': 'RunningHeader'}, {'pk': 1, 'name': 'Title'}]\n",
      "line types: [{'pk': 15289, 'name': 'Handwritten'}, {'pk': 15288, 'name': 'MainCentral'}, {'pk': 15287, 'name': 'NotMain'}]\n",
      "transcription_level_list: [{'pk': 10754, 'name': 'kraken:sinai_no_voc_61', 'archived': False, 'avg_confidence': 0.9808429843538934}, {'pk': 10753, 'name': 'selection_daniel | export', 'archived': False, 'avg_confidence': 0.9865010420470414}, {'pk': 10752, 'name': 'selection_luigi | export', 'archived': False, 'avg_confidence': 0.979462673228952}, {'pk': 10751, 'name': 'manual', 'archived': False, 'avg_confidence': None}]\n"
     ]
    },
    {
     "data": {
      "text/plain": [
       "(64,\n",
       " [{'pk': 10754,\n",
       "   'name': 'kraken:sinai_no_voc_61',\n",
       "   'archived': False,\n",
       "   'avg_confidence': 0.9808429843538934},\n",
       "  {'pk': 10753,\n",
       "   'name': 'selection_daniel | export',\n",
       "   'archived': False,\n",
       "   'avg_confidence': 0.9865010420470414},\n",
       "  {'pk': 10752,\n",
       "   'name': 'selection_luigi | export',\n",
       "   'archived': False,\n",
       "   'avg_confidence': 0.979462673228952},\n",
       "  {'pk': 10751, 'name': 'manual', 'archived': False, 'avg_confidence': None}],\n",
       " [{'pk': 6912, 'name': 'Catchword'},\n",
       "  {'pk': 3, 'name': 'Commentary'},\n",
       "  {'pk': 6910, 'name': 'FooterCentral'},\n",
       "  {'pk': 6914, 'name': 'Handwritten'},\n",
       "  {'pk': 6908, 'name': 'Header'},\n",
       "  {'pk': 4, 'name': 'Illustration'},\n",
       "  {'pk': 2, 'name': 'Main'},\n",
       "  {'pk': 6909, 'name': 'MainCentral'},\n",
       "  {'pk': 6911, 'name': 'Margin'},\n",
       "  {'pk': 6913, 'name': 'RunningHeader'},\n",
       "  {'pk': 1, 'name': 'Title'}],\n",
       " [{'pk': 15289, 'name': 'Handwritten'},\n",
       "  {'pk': 15288, 'name': 'MainCentral'},\n",
       "  {'pk': 15287, 'name': 'NotMain'}])"
      ]
     },
     "execution_count": 2,
     "metadata": {},
     "output_type": "execute_result"
    }
   ],
   "source": [
    "doc_pk = 4381\n",
    "get_basic_info(doc_pk)"
   ]
  },
  {
   "cell_type": "code",
   "execution_count": 4,
   "metadata": {},
   "outputs": [
    {
     "name": "stdout",
     "output_type": "stream",
     "text": [
      "[{'pk': 6912, 'name': 'Catchword'}, {'pk': 3, 'name': 'Commentary'}, {'pk': 6910, 'name': 'FooterCentral'}, {'pk': 6914, 'name': 'Handwritten'}, {'pk': 6908, 'name': 'Header'}, {'pk': 4, 'name': 'Illustration'}, {'pk': 2, 'name': 'Main'}, {'pk': 6909, 'name': 'MainCentral'}, {'pk': 6911, 'name': 'Margin'}, {'pk': 6913, 'name': 'RunningHeader'}, {'pk': 1, 'name': 'Title'}]\n",
      "[6909]\n"
     ]
    }
   ],
   "source": [
    "# get the region type list\n",
    "region_type_list, line_type_list = get_document_segmentation_ontology(doc_pk,print_status=False)\n",
    "print(region_type_list)\n",
    "\n",
    "\n",
    "# choose the region type pk\n",
    "# We want the regions {'pk': 6909, 'name': 'MainCentral'}\n",
    "region_type_pk_list = [6909]\n",
    "print(region_type_pk_list)"
   ]
  },
  {
   "cell_type": "code",
   "execution_count": 6,
   "metadata": {},
   "outputs": [
    {
     "name": "stdout",
     "output_type": "stream",
     "text": [
      "64 parts found\n"
     ]
    }
   ],
   "source": [
    "# get all the parts from the document\n",
    "all_parts = get_all_parts(doc_pk)\n",
    "\n",
    "# get the part pk list\n",
    "part_pk_list = [ part['pk'] for part in all_parts ]\n",
    "\n",
    "print(f\"{len(part_pk_list)} parts found\")"
   ]
  },
  {
   "cell_type": "code",
   "execution_count": 7,
   "metadata": {},
   "outputs": [
    {
     "name": "stdout",
     "output_type": "stream",
     "text": [
      "200\n",
      "b'{\"status\":\"ok\"}'\n"
     ]
    },
    {
     "data": {
      "text/plain": [
       "<Response [200]>"
      ]
     },
     "execution_count": 7,
     "metadata": {},
     "output_type": "execute_result"
    }
   ],
   "source": [
    "# Choose the transcription level\n",
    "tr_level_pk = 10754\n",
    "\n",
    "# get the xmls of the parts from eScriptorium\n",
    "export_xml(doc_pk,part_pk_list,tr_level_pk,region_type_pk_list,include_undefined = False, include_orphan = False, file_format = 'alto',include_images = False, print_status = True)\n"
   ]
  },
  {
   "cell_type": "markdown",
   "metadata": {},
   "source": [
    "--------\n"
   ]
  }
 ],
 "metadata": {
  "kernelspec": {
   "display_name": "Python 3",
   "language": "python",
   "name": "python3"
  },
  "language_info": {
   "codemirror_mode": {
    "name": "ipython",
    "version": 3
   },
   "file_extension": ".py",
   "mimetype": "text/x-python",
   "name": "python",
   "nbconvert_exporter": "python",
   "pygments_lexer": "ipython3",
   "version": "3.9.18"
  },
  "orig_nbformat": 4
 },
 "nbformat": 4,
 "nbformat_minor": 2
}
