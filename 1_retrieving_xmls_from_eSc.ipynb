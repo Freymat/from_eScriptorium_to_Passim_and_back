{
 "cells": [
  {
   "cell_type": "markdown",
   "metadata": {},
   "source": [
    "# Retrieving XMLs from eSc\n",
    "We retrieve xmls of document parts from eScriptorium,\n",
    "in order to prepare them for processing with Passim."
   ]
  },
  {
   "cell_type": "markdown",
   "metadata": {},
   "source": [
    "# Notebook initialization"
   ]
  },
  {
   "cell_type": "code",
   "execution_count": 1,
   "metadata": {},
   "outputs": [
    {
     "name": "stdout",
     "output_type": "stream",
     "text": [
      "switching to  msIA\n"
     ]
    }
   ],
   "source": [
    "from functions import *\n",
    "from packages import *"
   ]
  },
  {
   "cell_type": "markdown",
   "metadata": {},
   "source": [
    "Get the document parts xmls from eScriptorium"
   ]
  },
  {
   "cell_type": "code",
   "execution_count": 2,
   "metadata": {},
   "outputs": [
    {
     "name": "stdout",
     "output_type": "stream",
     "text": [
      "get document segmentation ontology for document:  4518\n",
      "https://msia.escriptorium.fr/api/documents/4518/\n",
      "Document: 4518  with  902  parts\n",
      "region types: [{'pk': 7710, 'name': 'Catchword'}, {'pk': 3, 'name': 'Commentary'}, {'pk': 7715, 'name': 'FooterCentral'}, {'pk': 7717, 'name': 'FooterLeft'}, {'pk': 7716, 'name': 'FooterRight'}, {'pk': 7713, 'name': 'Handwritten'}, {'pk': 7707, 'name': 'Header'}, {'pk': 4, 'name': 'Illustration'}, {'pk': 2, 'name': 'Main'}, {'pk': 7711, 'name': 'MainCentral'}, {'pk': 7709, 'name': 'MainLeft'}, {'pk': 7708, 'name': 'MainRight'}, {'pk': 7712, 'name': 'Margin'}, {'pk': 7714, 'name': 'Stamp'}, {'pk': 1, 'name': 'Title'}]\n",
      "line types: [{'pk': 15823, 'name': 'Handwritten'}, {'pk': 15822, 'name': 'MainCentral'}, {'pk': 15821, 'name': 'MainLeft'}, {'pk': 15820, 'name': 'MainRight'}, {'pk': 15819, 'name': 'NotMain'}]\n",
      "transcription_level_list: [{'pk': 11162, 'name': '2col_01_copy | export', 'archived': False, 'avg_confidence': 0.9851434248646841}, {'pk': 11161, 'name': 'manual', 'archived': False, 'avg_confidence': None}]\n"
     ]
    },
    {
     "data": {
      "text/plain": [
       "(902,\n",
       " [{'pk': 11162,\n",
       "   'name': '2col_01_copy | export',\n",
       "   'archived': False,\n",
       "   'avg_confidence': 0.9851434248646841},\n",
       "  {'pk': 11161, 'name': 'manual', 'archived': False, 'avg_confidence': None}],\n",
       " [{'pk': 7710, 'name': 'Catchword'},\n",
       "  {'pk': 3, 'name': 'Commentary'},\n",
       "  {'pk': 7715, 'name': 'FooterCentral'},\n",
       "  {'pk': 7717, 'name': 'FooterLeft'},\n",
       "  {'pk': 7716, 'name': 'FooterRight'},\n",
       "  {'pk': 7713, 'name': 'Handwritten'},\n",
       "  {'pk': 7707, 'name': 'Header'},\n",
       "  {'pk': 4, 'name': 'Illustration'},\n",
       "  {'pk': 2, 'name': 'Main'},\n",
       "  {'pk': 7711, 'name': 'MainCentral'},\n",
       "  {'pk': 7709, 'name': 'MainLeft'},\n",
       "  {'pk': 7708, 'name': 'MainRight'},\n",
       "  {'pk': 7712, 'name': 'Margin'},\n",
       "  {'pk': 7714, 'name': 'Stamp'},\n",
       "  {'pk': 1, 'name': 'Title'}],\n",
       " [{'pk': 15823, 'name': 'Handwritten'},\n",
       "  {'pk': 15822, 'name': 'MainCentral'},\n",
       "  {'pk': 15821, 'name': 'MainLeft'},\n",
       "  {'pk': 15820, 'name': 'MainRight'},\n",
       "  {'pk': 15819, 'name': 'NotMain'}])"
      ]
     },
     "execution_count": 2,
     "metadata": {},
     "output_type": "execute_result"
    }
   ],
   "source": [
    "doc_pk = 4518\n",
    "get_basic_info(doc_pk)"
   ]
  },
  {
   "cell_type": "code",
   "execution_count": 4,
   "metadata": {},
   "outputs": [
    {
     "name": "stdout",
     "output_type": "stream",
     "text": [
      "[{'pk': 7710, 'name': 'Catchword'}, {'pk': 3, 'name': 'Commentary'}, {'pk': 7715, 'name': 'FooterCentral'}, {'pk': 7717, 'name': 'FooterLeft'}, {'pk': 7716, 'name': 'FooterRight'}, {'pk': 7713, 'name': 'Handwritten'}, {'pk': 7707, 'name': 'Header'}, {'pk': 4, 'name': 'Illustration'}, {'pk': 2, 'name': 'Main'}, {'pk': 7711, 'name': 'MainCentral'}, {'pk': 7709, 'name': 'MainLeft'}, {'pk': 7708, 'name': 'MainRight'}, {'pk': 7712, 'name': 'Margin'}, {'pk': 7714, 'name': 'Stamp'}, {'pk': 1, 'name': 'Title'}]\n",
      "[7709, 7708]\n"
     ]
    }
   ],
   "source": [
    "# get the region type list\n",
    "region_type_list, line_type_list = get_document_segmentation_ontology(doc_pk,print_status=False)\n",
    "print(region_type_list)\n",
    "\n",
    "\n",
    "# choose the region type pk\n",
    "# We want the regions {'pk': 7709, 'name': 'MainLeft'}, {'pk': 7708, 'name': 'MainRight'}\n",
    "region_type_pk_list = [7709, 7708]\n",
    "print(region_type_pk_list)\n",
    "\n",
    "# Choose the transcription level\n",
    "tr_level_pk = 11162"
   ]
  },
  {
   "cell_type": "code",
   "execution_count": 20,
   "metadata": {},
   "outputs": [],
   "source": [
    "def get_all_parts_infos(doc_pk):\n",
    "    \"\"\"\n",
    "    Get all parts information from the eScriptorium API, handling pagination to retrieve all pages.\n",
    "    \"\"\"\n",
    "    url = f\"https://msia.escriptorium.fr/api/documents/{doc_pk}/parts/\"\n",
    "    all_parts_infos = []\n",
    "    \n",
    "    while url:\n",
    "        response = requests.get(url, headers=headers)\n",
    "        response.raise_for_status()\n",
    "        data = response.json()\n",
    "        all_parts_infos.extend(data['results'])\n",
    "        \n",
    "        # Update the URL to the next page, or set it to None if there are no more pages\n",
    "        url = data.get('next')\n",
    "    \n",
    "    # save the parts information in a json file\n",
    "    # if the directory does not exist, create it\n",
    "    all_parts_infos_path = f'eSc_parts_infos'\n",
    "    if not os.path.exists(all_parts_infos_path):\n",
    "        os.makedirs(all_parts_infos_path)\n",
    "    with open(f'{all_parts_infos_path}/all_parts_infos.json', 'w') as f:\n",
    "        json.dump(all_parts_infos, f)\n",
    "\n",
    "    \n",
    "    return all_parts_infos"
   ]
  },
  {
   "cell_type": "code",
   "execution_count": 22,
   "metadata": {},
   "outputs": [
    {
     "name": "stdout",
     "output_type": "stream",
     "text": [
      "902 parts found\n"
     ]
    }
   ],
   "source": [
    "# get all the parts from the document\n",
    "all_parts = get_all_parts_infos(doc_pk)\n",
    "\n",
    "# get the part pk list\n",
    "part_pk_list = [ part['pk'] for part in all_parts ]\n",
    "\n",
    "print(f\"{len(part_pk_list)} parts found\")"
   ]
  },
  {
   "cell_type": "code",
   "execution_count": 13,
   "metadata": {},
   "outputs": [
    {
     "name": "stdout",
     "output_type": "stream",
     "text": [
      "200\n",
      "b'{\"status\":\"ok\"}'\n"
     ]
    },
    {
     "data": {
      "text/plain": [
       "<Response [200]>"
      ]
     },
     "execution_count": 13,
     "metadata": {},
     "output_type": "execute_result"
    }
   ],
   "source": [
    "\n",
    "\n",
    "# get the xmls of the parts from eScriptorium\n",
    "export_xml(doc_pk,part_pk_list,tr_level_pk,region_type_pk_list,include_undefined = False, include_orphan = False, file_format = 'alto',include_images = False, print_status = True)\n"
   ]
  },
  {
   "cell_type": "markdown",
   "metadata": {},
   "source": [
    "--------\n"
   ]
  }
 ],
 "metadata": {
  "kernelspec": {
   "display_name": "Python 3",
   "language": "python",
   "name": "python3"
  },
  "language_info": {
   "codemirror_mode": {
    "name": "ipython",
    "version": 3
   },
   "file_extension": ".py",
   "mimetype": "text/x-python",
   "name": "python",
   "nbconvert_exporter": "python",
   "pygments_lexer": "ipython3",
   "version": "3.9.18"
  },
  "orig_nbformat": 4
 },
 "nbformat": 4,
 "nbformat_minor": 2
}
