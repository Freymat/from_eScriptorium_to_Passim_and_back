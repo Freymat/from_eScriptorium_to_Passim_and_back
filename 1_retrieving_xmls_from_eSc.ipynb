{
 "cells": [
  {
   "cell_type": "markdown",
   "metadata": {},
   "source": [
    "# Retrieving XMLs from eSc\n",
    "We retrieve xmls of document parts from eScriptorium,\n",
    "in order to prepare them for processing with Passim."
   ]
  },
  {
   "cell_type": "markdown",
   "metadata": {},
   "source": [
    "# Notebook initialization"
   ]
  },
  {
   "cell_type": "code",
   "execution_count": 1,
   "metadata": {},
   "outputs": [
    {
     "name": "stdout",
     "output_type": "stream",
     "text": [
      "switching to  msIA\n"
     ]
    }
   ],
   "source": [
    "from functions import *\n",
    "from packages import *"
   ]
  },
  {
   "cell_type": "markdown",
   "metadata": {},
   "source": [
    "Get the document parts xmls from eScriptorium"
   ]
  },
  {
   "cell_type": "code",
   "execution_count": 2,
   "metadata": {},
   "outputs": [
    {
     "name": "stdout",
     "output_type": "stream",
     "text": [
      "get document segmentation ontology for document:  4366\n",
      "https://msia.escriptorium.fr/api/documents/4366/\n",
      "Document: 4366  with  900  parts\n",
      "region types: [{'pk': 6799, 'name': 'Catchword'}, {'pk': 3, 'name': 'Commentary'}, {'pk': 6800, 'name': 'FooterCentral'}, {'pk': 6802, 'name': 'Handwritten'}, {'pk': 4, 'name': 'Illustration'}, {'pk': 2, 'name': 'Main'}, {'pk': 6798, 'name': 'MainCentral'}, {'pk': 6805, 'name': 'MainLeft'}, {'pk': 6804, 'name': 'MainRight'}, {'pk': 6803, 'name': 'Margin'}, {'pk': 6797, 'name': 'RunningHeader'}, {'pk': 6801, 'name': 'Stamp'}, {'pk': 1, 'name': 'Title'}]\n",
      "line types: [{'pk': 15193, 'name': 'Handwritten'}, {'pk': 15191, 'name': 'MainCentral'}, {'pk': 15195, 'name': 'MainLeft'}, {'pk': 15194, 'name': 'MainRight'}, {'pk': 15192, 'name': 'NotMain'}]\n",
      "transcription_level_list: [{'pk': 10678, 'name': 'kraken_hebrew_print_sinai_voc_transcribathon_8 | export', 'archived': False, 'avg_confidence': 0.9907327330852822}, {'pk': 10676, 'name': 'manual', 'archived': False, 'avg_confidence': None}]\n"
     ]
    },
    {
     "data": {
      "text/plain": [
       "(900,\n",
       " [{'pk': 10678,\n",
       "   'name': 'kraken_hebrew_print_sinai_voc_transcribathon_8 | export',\n",
       "   'archived': False,\n",
       "   'avg_confidence': 0.9907327330852822},\n",
       "  {'pk': 10676, 'name': 'manual', 'archived': False, 'avg_confidence': None}],\n",
       " [{'pk': 6799, 'name': 'Catchword'},\n",
       "  {'pk': 3, 'name': 'Commentary'},\n",
       "  {'pk': 6800, 'name': 'FooterCentral'},\n",
       "  {'pk': 6802, 'name': 'Handwritten'},\n",
       "  {'pk': 4, 'name': 'Illustration'},\n",
       "  {'pk': 2, 'name': 'Main'},\n",
       "  {'pk': 6798, 'name': 'MainCentral'},\n",
       "  {'pk': 6805, 'name': 'MainLeft'},\n",
       "  {'pk': 6804, 'name': 'MainRight'},\n",
       "  {'pk': 6803, 'name': 'Margin'},\n",
       "  {'pk': 6797, 'name': 'RunningHeader'},\n",
       "  {'pk': 6801, 'name': 'Stamp'},\n",
       "  {'pk': 1, 'name': 'Title'}],\n",
       " [{'pk': 15193, 'name': 'Handwritten'},\n",
       "  {'pk': 15191, 'name': 'MainCentral'},\n",
       "  {'pk': 15195, 'name': 'MainLeft'},\n",
       "  {'pk': 15194, 'name': 'MainRight'},\n",
       "  {'pk': 15192, 'name': 'NotMain'}])"
      ]
     },
     "execution_count": 2,
     "metadata": {},
     "output_type": "execute_result"
    }
   ],
   "source": [
    "doc_pk = 4366\n",
    "get_basic_info(doc_pk)"
   ]
  },
  {
   "cell_type": "code",
   "execution_count": 3,
   "metadata": {},
   "outputs": [
    {
     "name": "stdout",
     "output_type": "stream",
     "text": [
      "[{'pk': 6799, 'name': 'Catchword'}, {'pk': 3, 'name': 'Commentary'}, {'pk': 6800, 'name': 'FooterCentral'}, {'pk': 6802, 'name': 'Handwritten'}, {'pk': 4, 'name': 'Illustration'}, {'pk': 2, 'name': 'Main'}, {'pk': 6798, 'name': 'MainCentral'}, {'pk': 6805, 'name': 'MainLeft'}, {'pk': 6804, 'name': 'MainRight'}, {'pk': 6803, 'name': 'Margin'}, {'pk': 6797, 'name': 'RunningHeader'}, {'pk': 6801, 'name': 'Stamp'}, {'pk': 1, 'name': 'Title'}]\n",
      "[6798, 6797]\n"
     ]
    }
   ],
   "source": [
    "# get the region type list\n",
    "region_type_list, line_type_list = get_document_segmentation_ontology(doc_pk,print_status=False)\n",
    "print(region_type_list)\n",
    "\n",
    "\n",
    "# choose the region type pk\n",
    "# We want the regions {'pk': 6798, 'name': 'MainCentral'} {'pk': 6797, 'name': 'RunningHeader'}\n",
    "region_type_pk_list = [6798, 6797]\n",
    "print(region_type_pk_list)"
   ]
  },
  {
   "cell_type": "code",
   "execution_count": 4,
   "metadata": {},
   "outputs": [],
   "source": [
    "# get all the parts from the document\n",
    "all_parts = get_all_parts(doc_pk)\n",
    "\n",
    "# get the part pk list\n",
    "part_pk_list = [ part['pk'] for part in all_parts ]"
   ]
  },
  {
   "cell_type": "code",
   "execution_count": 5,
   "metadata": {},
   "outputs": [
    {
     "name": "stdout",
     "output_type": "stream",
     "text": [
      "200\n",
      "b'{\"status\":\"ok\"}'\n"
     ]
    },
    {
     "data": {
      "text/plain": [
       "<Response [200]>"
      ]
     },
     "execution_count": 5,
     "metadata": {},
     "output_type": "execute_result"
    }
   ],
   "source": [
    "# Choose the transcription level\n",
    "tr_level_pk = 10678\n",
    "\n",
    "# get the xmls of the parts from eScriptorium\n",
    "export_xml(doc_pk,part_pk_list,tr_level_pk,region_type_pk_list,include_undefined = False, include_orphan = False, file_format = 'alto',include_images = False, print_status = True)\n"
   ]
  },
  {
   "cell_type": "markdown",
   "metadata": {},
   "source": [
    "--------\n"
   ]
  }
 ],
 "metadata": {
  "kernelspec": {
   "display_name": "Python 3",
   "language": "python",
   "name": "python3"
  },
  "language_info": {
   "codemirror_mode": {
    "name": "ipython",
    "version": 3
   },
   "file_extension": ".py",
   "mimetype": "text/x-python",
   "name": "python",
   "nbconvert_exporter": "python",
   "pygments_lexer": "ipython3",
   "version": "3.9.18"
  },
  "orig_nbformat": 4
 },
 "nbformat": 4,
 "nbformat_minor": 2
}
